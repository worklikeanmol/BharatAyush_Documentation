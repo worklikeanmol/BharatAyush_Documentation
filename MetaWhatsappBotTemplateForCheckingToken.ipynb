{
  "nbformat": 4,
  "nbformat_minor": 0,
  "metadata": {
    "colab": {
      "provenance": [],
      "include_colab_link": true
    },
    "kernelspec": {
      "name": "python3",
      "display_name": "Python 3"
    },
    "language_info": {
      "name": "python"
    }
  },
  "cells": [
    {
      "cell_type": "markdown",
      "metadata": {
        "id": "view-in-github",
        "colab_type": "text"
      },
      "source": [
        "<a href=\"https://colab.research.google.com/github/worklikeanmol/BharatAyush_Documentation/blob/main/MetaWhatsappBotTemplateForCheckingToken.ipynb\" target=\"_parent\"><img src=\"https://colab.research.google.com/assets/colab-badge.svg\" alt=\"Open In Colab\"/></a>"
      ]
    },
    {
      "cell_type": "code",
      "execution_count": null,
      "metadata": {
        "colab": {
          "base_uri": "https://localhost:8080/"
        },
        "id": "tC8xt_R3ji6s",
        "outputId": "f8e1ba92-ba32-4112-d4ad-83ba2882a22d"
      },
      "outputs": [
        {
          "output_type": "stream",
          "name": "stdout",
          "text": [
            "Message sent successfully!\n",
            "{'messaging_product': 'whatsapp', 'contacts': [{'input': '916200438326', 'wa_id': '916200438326'}], 'messages': [{'id': 'wamid.HBgMOTE2MjAwNDM4MzI2FQIAERgSMTYwREFBOEQzMUIyQjYwMkQ2AA=='}]}\n"
          ]
        }
      ],
      "source": [
        "import requests\n",
        "import json\n",
        "\n",
        "def send_whatsapp_message():\n",
        "    url = \"https://graph.facebook.com/v21.0/552770251247356/messages\"\n",
        "\n",
        "    # Your access token (replace with your own token)\n",
        "    access_token = \"EAAYKq2WeE9sBO1Qc3eCHq2zbZAf7p1zZA0UqiWkKTx33zLSaiojLtzxO0zxe5XpYxQAHE3uIFjaomMbidcJkjVousgDoWKh03V25HAxcN4Pcn4W4EyZBj8ZBLgPEZAdXjtLBBGDsPx0rNFB3D2YvgpThJtkMVYmtmLZBin8eIZACqmbzY2HIOj92IBXKF7PjvhXZCwtKC02w3SZBxLWZAr2EZAiNhIHCRXN\"\n",
        "\n",
        "    # The recipient's phone number (E.164 format without +)\n",
        "    phone_number = \"916200438326\"\n",
        "\n",
        "    # The message you want to send\n",
        "    message = \"Hello Sir, this is a test message from bharatAyush\"\n",
        "\n",
        "    # Payload data for sending a text message\n",
        "    payload = {\n",
        "        \"messaging_product\": \"whatsapp\",\n",
        "        \"to\": phone_number,\n",
        "        \"text\": {\n",
        "            \"body\": message\n",
        "        }\n",
        "    }\n",
        "\n",
        "    # Headers for the request\n",
        "    headers = {\n",
        "        \"Authorization\": f\"Bearer {access_token}\",\n",
        "        \"Content-Type\": \"application/json\"\n",
        "    }\n",
        "\n",
        "    # Make the POST request\n",
        "    response = requests.post(url, headers=headers, data=json.dumps(payload))\n",
        "\n",
        "    # Check if the request was successful\n",
        "    if response.status_code == 200:\n",
        "        print(\"Message sent successfully!\")\n",
        "        print(response.json())  # Print the response to check details\n",
        "    else:\n",
        "        print(f\"Failed to send message. Status code: {response.status_code}\")\n",
        "        print(response.text)  # Print error details\n",
        "\n",
        "# Call the function to send the WhatsApp message\n",
        "send_whatsapp_message()"
      ]
    },
    {
      "cell_type": "code",
      "source": [
        "import requests\n",
        "import json\n",
        "\n",
        "def send_whatsapp_message():\n",
        "    url = \"https://graph.facebook.com/v21.0/679603845227680/messages\"\n",
        "\n",
        "    # Your access token (replace with your own token)\n",
        "    access_token = \"EAAIPe58bqTUBPLPPjUgVQEiNrrOdxwLM4DPAQe6hN4ZApTzb7hrhqKjf4h3PXXdZC6f4Xj7HdslRXUT0SxQZAfFYIZCfuND03yGQmtxtxVuOhZAL2WsmO9NWvLEOoDba9oB3DphQhTiSmj0Nrylwmcb5uZA1QwnHISuwcqpNWNMOCTT7E8KL0v7xv94bFH0RudEwZDZD\"\n",
        "\n",
        "    # The recipient's phone number (E.164 format without +)\n",
        "    phone_number = \"916200438326\"\n",
        "\n",
        "    # The message you want to send\n",
        "    message = \"Hello Sir, this is a test message from bharatAyush\"\n",
        "\n",
        "    # Payload data for sending a text message\n",
        "    payload = {\n",
        "        \"messaging_product\": \"whatsapp\",\n",
        "        \"to\": phone_number,\n",
        "        \"text\": {\n",
        "            \"body\": message\n",
        "        }\n",
        "    }\n",
        "\n",
        "    # Headers for the request\n",
        "    headers = {\n",
        "        \"Authorization\": f\"Bearer {access_token}\",\n",
        "        \"Content-Type\": \"application/json\"\n",
        "    }\n",
        "\n",
        "    # Make the POST request\n",
        "    response = requests.post(url, headers=headers, data=json.dumps(payload))\n",
        "\n",
        "    # Check if the request was successful\n",
        "    if response.status_code == 200:\n",
        "        print(\"Message sent successfully!\")\n",
        "        print(response.json())  # Print the response to check details\n",
        "    else:\n",
        "        print(f\"Failed to send message. Status code: {response.status_code}\")\n",
        "        print(response.text)  # Print error details\n",
        "\n",
        "# Call the function to send the WhatsApp message\n",
        "send_whatsapp_message()"
      ],
      "metadata": {
        "colab": {
          "base_uri": "https://localhost:8080/"
        },
        "id": "z-sjWLeGj3f6",
        "outputId": "f15d40d1-de9b-4b95-f222-c084a14b6e3c"
      },
      "execution_count": null,
      "outputs": [
        {
          "output_type": "stream",
          "name": "stdout",
          "text": [
            "Message sent successfully!\n",
            "{'messaging_product': 'whatsapp', 'contacts': [{'input': '916200438326', 'wa_id': '916200438326'}], 'messages': [{'id': 'wamid.HBgMOTE2MjAwNDM4MzI2FQIAERgSQkFFOTEyNjg0RDU3QzBGNEZEAA=='}]}\n"
          ]
        }
      ]
    },
    {
      "cell_type": "code",
      "source": [],
      "metadata": {
        "id": "6cJkmx3yuu00"
      },
      "execution_count": null,
      "outputs": []
    }
  ]
}